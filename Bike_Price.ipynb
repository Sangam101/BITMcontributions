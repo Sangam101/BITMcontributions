{
  "nbformat": 4,
  "nbformat_minor": 0,
  "metadata": {
    "colab": {
      "name": "Bike_Price.ipynb",
      "provenance": [],
      "collapsed_sections": [],
      "authorship_tag": "ABX9TyPKbJ3aSKGeSD3kNOSNwQ2G",
      "include_colab_link": true
    },
    "kernelspec": {
      "name": "python3",
      "display_name": "Python 3"
    },
    "language_info": {
      "name": "python"
    }
  },
  "cells": [
    {
      "cell_type": "markdown",
      "metadata": {
        "id": "view-in-github",
        "colab_type": "text"
      },
      "source": [
        "<a href=\"https://colab.research.google.com/github/Sangam101/BITMcontributions/blob/master/Bike_Price.ipynb\" target=\"_parent\"><img src=\"https://colab.research.google.com/assets/colab-badge.svg\" alt=\"Open In Colab\"/></a>"
      ]
    },
    {
      "cell_type": "code",
      "execution_count": 299,
      "metadata": {
        "id": "HW4VdgYLf8BI"
      },
      "outputs": [],
      "source": [
        "import pandas as pd\n",
        "df = pd.read_csv('https://raw.githubusercontent.com/YBI-Foundation/Dataset/main/Bike%20Prices.csv')"
      ]
    },
    {
      "cell_type": "code",
      "source": [
        "df"
      ],
      "metadata": {
        "colab": {
          "base_uri": "https://localhost:8080/",
          "height": 423
        },
        "id": "e5PazlT7gHMV",
        "outputId": "7cfe970b-14db-48bd-b104-c490a8900cd0"
      },
      "execution_count": 300,
      "outputs": [
        {
          "output_type": "execute_result",
          "data": {
            "text/plain": [
              "      Brand                      Model  Selling_Price  Year Seller_Type  \\\n",
              "0       TVS                 TVS XL 100          30000  2017  Individual   \n",
              "1     Bajaj              Bajaj  ct 100          18000  2017  Individual   \n",
              "2        Yo                   Yo Style          20000  2011  Individual   \n",
              "3     Bajaj         Bajaj Discover 100          25000  2010  Individual   \n",
              "4     Bajaj         Bajaj Discover 100          24999  2012  Individual   \n",
              "...     ...                        ...            ...   ...         ...   \n",
              "1056  Royal  Royal Enfield Electra 5 S          90000  2012  Individual   \n",
              "1057   Hero            Hero Honda Hunk          20000  2010  Individual   \n",
              "1058  Bajaj     Bajaj Pulsar 220 DTS-i          60000  2014  Individual   \n",
              "1059   Hero     Hero Honda CBZ extreme          40000  2009  Individual   \n",
              "1060   Hero     Hero Honda CBZ extreme          35000  2012  Individual   \n",
              "\n",
              "          Owner  KM_Driven  Ex_Showroom_Price  \n",
              "0     1st owner       8000            30490.0  \n",
              "1     1st owner      35000            32000.0  \n",
              "2     1st owner      10000            37675.0  \n",
              "3     1st owner      43000            42859.0  \n",
              "4     2nd owner      35000            42859.0  \n",
              "...         ...        ...                ...  \n",
              "1056  1st owner      40000                NaN  \n",
              "1057  1st owner      17000                NaN  \n",
              "1058  1st owner      16000                NaN  \n",
              "1059  1st owner      50000                NaN  \n",
              "1060  1st owner      60000                NaN  \n",
              "\n",
              "[1061 rows x 8 columns]"
            ],
            "text/html": [
              "\n",
              "  <div id=\"df-3f32fccd-2bcc-4744-b2b9-2c1f346b000f\">\n",
              "    <div class=\"colab-df-container\">\n",
              "      <div>\n",
              "<style scoped>\n",
              "    .dataframe tbody tr th:only-of-type {\n",
              "        vertical-align: middle;\n",
              "    }\n",
              "\n",
              "    .dataframe tbody tr th {\n",
              "        vertical-align: top;\n",
              "    }\n",
              "\n",
              "    .dataframe thead th {\n",
              "        text-align: right;\n",
              "    }\n",
              "</style>\n",
              "<table border=\"1\" class=\"dataframe\">\n",
              "  <thead>\n",
              "    <tr style=\"text-align: right;\">\n",
              "      <th></th>\n",
              "      <th>Brand</th>\n",
              "      <th>Model</th>\n",
              "      <th>Selling_Price</th>\n",
              "      <th>Year</th>\n",
              "      <th>Seller_Type</th>\n",
              "      <th>Owner</th>\n",
              "      <th>KM_Driven</th>\n",
              "      <th>Ex_Showroom_Price</th>\n",
              "    </tr>\n",
              "  </thead>\n",
              "  <tbody>\n",
              "    <tr>\n",
              "      <th>0</th>\n",
              "      <td>TVS</td>\n",
              "      <td>TVS XL 100</td>\n",
              "      <td>30000</td>\n",
              "      <td>2017</td>\n",
              "      <td>Individual</td>\n",
              "      <td>1st owner</td>\n",
              "      <td>8000</td>\n",
              "      <td>30490.0</td>\n",
              "    </tr>\n",
              "    <tr>\n",
              "      <th>1</th>\n",
              "      <td>Bajaj</td>\n",
              "      <td>Bajaj  ct 100</td>\n",
              "      <td>18000</td>\n",
              "      <td>2017</td>\n",
              "      <td>Individual</td>\n",
              "      <td>1st owner</td>\n",
              "      <td>35000</td>\n",
              "      <td>32000.0</td>\n",
              "    </tr>\n",
              "    <tr>\n",
              "      <th>2</th>\n",
              "      <td>Yo</td>\n",
              "      <td>Yo Style</td>\n",
              "      <td>20000</td>\n",
              "      <td>2011</td>\n",
              "      <td>Individual</td>\n",
              "      <td>1st owner</td>\n",
              "      <td>10000</td>\n",
              "      <td>37675.0</td>\n",
              "    </tr>\n",
              "    <tr>\n",
              "      <th>3</th>\n",
              "      <td>Bajaj</td>\n",
              "      <td>Bajaj Discover 100</td>\n",
              "      <td>25000</td>\n",
              "      <td>2010</td>\n",
              "      <td>Individual</td>\n",
              "      <td>1st owner</td>\n",
              "      <td>43000</td>\n",
              "      <td>42859.0</td>\n",
              "    </tr>\n",
              "    <tr>\n",
              "      <th>4</th>\n",
              "      <td>Bajaj</td>\n",
              "      <td>Bajaj Discover 100</td>\n",
              "      <td>24999</td>\n",
              "      <td>2012</td>\n",
              "      <td>Individual</td>\n",
              "      <td>2nd owner</td>\n",
              "      <td>35000</td>\n",
              "      <td>42859.0</td>\n",
              "    </tr>\n",
              "    <tr>\n",
              "      <th>...</th>\n",
              "      <td>...</td>\n",
              "      <td>...</td>\n",
              "      <td>...</td>\n",
              "      <td>...</td>\n",
              "      <td>...</td>\n",
              "      <td>...</td>\n",
              "      <td>...</td>\n",
              "      <td>...</td>\n",
              "    </tr>\n",
              "    <tr>\n",
              "      <th>1056</th>\n",
              "      <td>Royal</td>\n",
              "      <td>Royal Enfield Electra 5 S</td>\n",
              "      <td>90000</td>\n",
              "      <td>2012</td>\n",
              "      <td>Individual</td>\n",
              "      <td>1st owner</td>\n",
              "      <td>40000</td>\n",
              "      <td>NaN</td>\n",
              "    </tr>\n",
              "    <tr>\n",
              "      <th>1057</th>\n",
              "      <td>Hero</td>\n",
              "      <td>Hero Honda Hunk</td>\n",
              "      <td>20000</td>\n",
              "      <td>2010</td>\n",
              "      <td>Individual</td>\n",
              "      <td>1st owner</td>\n",
              "      <td>17000</td>\n",
              "      <td>NaN</td>\n",
              "    </tr>\n",
              "    <tr>\n",
              "      <th>1058</th>\n",
              "      <td>Bajaj</td>\n",
              "      <td>Bajaj Pulsar 220 DTS-i</td>\n",
              "      <td>60000</td>\n",
              "      <td>2014</td>\n",
              "      <td>Individual</td>\n",
              "      <td>1st owner</td>\n",
              "      <td>16000</td>\n",
              "      <td>NaN</td>\n",
              "    </tr>\n",
              "    <tr>\n",
              "      <th>1059</th>\n",
              "      <td>Hero</td>\n",
              "      <td>Hero Honda CBZ extreme</td>\n",
              "      <td>40000</td>\n",
              "      <td>2009</td>\n",
              "      <td>Individual</td>\n",
              "      <td>1st owner</td>\n",
              "      <td>50000</td>\n",
              "      <td>NaN</td>\n",
              "    </tr>\n",
              "    <tr>\n",
              "      <th>1060</th>\n",
              "      <td>Hero</td>\n",
              "      <td>Hero Honda CBZ extreme</td>\n",
              "      <td>35000</td>\n",
              "      <td>2012</td>\n",
              "      <td>Individual</td>\n",
              "      <td>1st owner</td>\n",
              "      <td>60000</td>\n",
              "      <td>NaN</td>\n",
              "    </tr>\n",
              "  </tbody>\n",
              "</table>\n",
              "<p>1061 rows × 8 columns</p>\n",
              "</div>\n",
              "      <button class=\"colab-df-convert\" onclick=\"convertToInteractive('df-3f32fccd-2bcc-4744-b2b9-2c1f346b000f')\"\n",
              "              title=\"Convert this dataframe to an interactive table.\"\n",
              "              style=\"display:none;\">\n",
              "        \n",
              "  <svg xmlns=\"http://www.w3.org/2000/svg\" height=\"24px\"viewBox=\"0 0 24 24\"\n",
              "       width=\"24px\">\n",
              "    <path d=\"M0 0h24v24H0V0z\" fill=\"none\"/>\n",
              "    <path d=\"M18.56 5.44l.94 2.06.94-2.06 2.06-.94-2.06-.94-.94-2.06-.94 2.06-2.06.94zm-11 1L8.5 8.5l.94-2.06 2.06-.94-2.06-.94L8.5 2.5l-.94 2.06-2.06.94zm10 10l.94 2.06.94-2.06 2.06-.94-2.06-.94-.94-2.06-.94 2.06-2.06.94z\"/><path d=\"M17.41 7.96l-1.37-1.37c-.4-.4-.92-.59-1.43-.59-.52 0-1.04.2-1.43.59L10.3 9.45l-7.72 7.72c-.78.78-.78 2.05 0 2.83L4 21.41c.39.39.9.59 1.41.59.51 0 1.02-.2 1.41-.59l7.78-7.78 2.81-2.81c.8-.78.8-2.07 0-2.86zM5.41 20L4 18.59l7.72-7.72 1.47 1.35L5.41 20z\"/>\n",
              "  </svg>\n",
              "      </button>\n",
              "      \n",
              "  <style>\n",
              "    .colab-df-container {\n",
              "      display:flex;\n",
              "      flex-wrap:wrap;\n",
              "      gap: 12px;\n",
              "    }\n",
              "\n",
              "    .colab-df-convert {\n",
              "      background-color: #E8F0FE;\n",
              "      border: none;\n",
              "      border-radius: 50%;\n",
              "      cursor: pointer;\n",
              "      display: none;\n",
              "      fill: #1967D2;\n",
              "      height: 32px;\n",
              "      padding: 0 0 0 0;\n",
              "      width: 32px;\n",
              "    }\n",
              "\n",
              "    .colab-df-convert:hover {\n",
              "      background-color: #E2EBFA;\n",
              "      box-shadow: 0px 1px 2px rgba(60, 64, 67, 0.3), 0px 1px 3px 1px rgba(60, 64, 67, 0.15);\n",
              "      fill: #174EA6;\n",
              "    }\n",
              "\n",
              "    [theme=dark] .colab-df-convert {\n",
              "      background-color: #3B4455;\n",
              "      fill: #D2E3FC;\n",
              "    }\n",
              "\n",
              "    [theme=dark] .colab-df-convert:hover {\n",
              "      background-color: #434B5C;\n",
              "      box-shadow: 0px 1px 3px 1px rgba(0, 0, 0, 0.15);\n",
              "      filter: drop-shadow(0px 1px 2px rgba(0, 0, 0, 0.3));\n",
              "      fill: #FFFFFF;\n",
              "    }\n",
              "  </style>\n",
              "\n",
              "      <script>\n",
              "        const buttonEl =\n",
              "          document.querySelector('#df-3f32fccd-2bcc-4744-b2b9-2c1f346b000f button.colab-df-convert');\n",
              "        buttonEl.style.display =\n",
              "          google.colab.kernel.accessAllowed ? 'block' : 'none';\n",
              "\n",
              "        async function convertToInteractive(key) {\n",
              "          const element = document.querySelector('#df-3f32fccd-2bcc-4744-b2b9-2c1f346b000f');\n",
              "          const dataTable =\n",
              "            await google.colab.kernel.invokeFunction('convertToInteractive',\n",
              "                                                     [key], {});\n",
              "          if (!dataTable) return;\n",
              "\n",
              "          const docLinkHtml = 'Like what you see? Visit the ' +\n",
              "            '<a target=\"_blank\" href=https://colab.research.google.com/notebooks/data_table.ipynb>data table notebook</a>'\n",
              "            + ' to learn more about interactive tables.';\n",
              "          element.innerHTML = '';\n",
              "          dataTable['output_type'] = 'display_data';\n",
              "          await google.colab.output.renderOutput(dataTable, element);\n",
              "          const docLink = document.createElement('div');\n",
              "          docLink.innerHTML = docLinkHtml;\n",
              "          element.appendChild(docLink);\n",
              "        }\n",
              "      </script>\n",
              "    </div>\n",
              "  </div>\n",
              "  "
            ]
          },
          "metadata": {},
          "execution_count": 300
        }
      ]
    },
    {
      "cell_type": "code",
      "source": [
        "col = df.columns"
      ],
      "metadata": {
        "id": "9Q2sK6ycgedX"
      },
      "execution_count": 301,
      "outputs": []
    },
    {
      "cell_type": "code",
      "source": [
        "df['Ex_Showroom_Price']"
      ],
      "metadata": {
        "colab": {
          "base_uri": "https://localhost:8080/"
        },
        "id": "woT3NkU6pJC5",
        "outputId": "a5afce50-332f-4c35-f56f-94ee869f90f0"
      },
      "execution_count": 302,
      "outputs": [
        {
          "output_type": "execute_result",
          "data": {
            "text/plain": [
              "0       30490.0\n",
              "1       32000.0\n",
              "2       37675.0\n",
              "3       42859.0\n",
              "4       42859.0\n",
              "         ...   \n",
              "1056        NaN\n",
              "1057        NaN\n",
              "1058        NaN\n",
              "1059        NaN\n",
              "1060        NaN\n",
              "Name: Ex_Showroom_Price, Length: 1061, dtype: float64"
            ]
          },
          "metadata": {},
          "execution_count": 302
        }
      ]
    },
    {
      "cell_type": "code",
      "source": [
        "for i in range(8):\n",
        "  print(col[i]+' '+str(df[col[i]].isnull().sum()))"
      ],
      "metadata": {
        "colab": {
          "base_uri": "https://localhost:8080/"
        },
        "id": "c4NdhwxDglnI",
        "outputId": "42ba72f4-87f8-4b9b-8174-fd9549a7ebbc"
      },
      "execution_count": 303,
      "outputs": [
        {
          "output_type": "stream",
          "name": "stdout",
          "text": [
            "Brand 0\n",
            "Model 0\n",
            "Selling_Price 0\n",
            "Year 0\n",
            "Seller_Type 0\n",
            "Owner 0\n",
            "KM_Driven 0\n",
            "Ex_Showroom_Price 435\n"
          ]
        }
      ]
    },
    {
      "cell_type": "code",
      "source": [
        "df= df.fillna(df.mean())"
      ],
      "metadata": {
        "colab": {
          "base_uri": "https://localhost:8080/"
        },
        "id": "qqGqGH1Fg2Z3",
        "outputId": "b8164ffb-d5de-4f32-cb74-83a2af31e69c"
      },
      "execution_count": 304,
      "outputs": [
        {
          "output_type": "stream",
          "name": "stderr",
          "text": [
            "/usr/local/lib/python3.7/dist-packages/ipykernel_launcher.py:1: FutureWarning: Dropping of nuisance columns in DataFrame reductions (with 'numeric_only=None') is deprecated; in a future version this will raise TypeError.  Select only valid columns before calling the reduction.\n",
            "  \"\"\"Entry point for launching an IPython kernel.\n"
          ]
        }
      ]
    },
    {
      "cell_type": "code",
      "source": [
        "df['Ex_Showroom_Price'].isnull().sum()"
      ],
      "metadata": {
        "colab": {
          "base_uri": "https://localhost:8080/"
        },
        "id": "WuSEfVfQugZq",
        "outputId": "a0d739ee-5003-4c9c-8dec-6b3e76beafff"
      },
      "execution_count": 305,
      "outputs": [
        {
          "output_type": "execute_result",
          "data": {
            "text/plain": [
              "0"
            ]
          },
          "metadata": {},
          "execution_count": 305
        }
      ]
    },
    {
      "cell_type": "code",
      "source": [
        "df['Seller_Type'].value_counts()"
      ],
      "metadata": {
        "colab": {
          "base_uri": "https://localhost:8080/"
        },
        "id": "c6zrQijIhhom",
        "outputId": "c91719e6-8e22-4dca-a5ff-3b458d54fd35"
      },
      "execution_count": 306,
      "outputs": [
        {
          "output_type": "execute_result",
          "data": {
            "text/plain": [
              "Individual    1055\n",
              "Dealer           6\n",
              "Name: Seller_Type, dtype: int64"
            ]
          },
          "metadata": {},
          "execution_count": 306
        }
      ]
    },
    {
      "cell_type": "code",
      "source": [
        "df['Owner'].value_counts()"
      ],
      "metadata": {
        "colab": {
          "base_uri": "https://localhost:8080/"
        },
        "id": "YzyTFlc6inkB",
        "outputId": "329a6a52-5bf3-4b2d-8ad7-a0943fe02f0b"
      },
      "execution_count": 307,
      "outputs": [
        {
          "output_type": "execute_result",
          "data": {
            "text/plain": [
              "1st owner    924\n",
              "2nd owner    123\n",
              "3rd owner     11\n",
              "4th owner      3\n",
              "Name: Owner, dtype: int64"
            ]
          },
          "metadata": {},
          "execution_count": 307
        }
      ]
    },
    {
      "cell_type": "code",
      "source": [
        "df['Year'].value_counts()"
      ],
      "metadata": {
        "colab": {
          "base_uri": "https://localhost:8080/"
        },
        "id": "ErUzsxikjCea",
        "outputId": "b0c281d3-0949-4f9b-f221-ca159938b08b"
      },
      "execution_count": 308,
      "outputs": [
        {
          "output_type": "execute_result",
          "data": {
            "text/plain": [
              "2017    133\n",
              "2018    131\n",
              "2016    107\n",
              "2015    100\n",
              "2014     91\n",
              "2019     86\n",
              "2013     73\n",
              "2012     70\n",
              "2011     61\n",
              "2010     60\n",
              "2007     29\n",
              "2008     28\n",
              "2009     28\n",
              "2006     20\n",
              "2005     14\n",
              "2000      6\n",
              "2004      5\n",
              "1998      3\n",
              "2020      3\n",
              "2002      3\n",
              "2001      2\n",
              "1997      2\n",
              "1988      1\n",
              "1999      1\n",
              "1991      1\n",
              "2003      1\n",
              "1993      1\n",
              "1995      1\n",
              "Name: Year, dtype: int64"
            ]
          },
          "metadata": {},
          "execution_count": 308
        }
      ]
    },
    {
      "cell_type": "code",
      "source": [
        "for i in range(1061):\n",
        "  if(df['Year'][i]<=2000):\n",
        "    df['Year'][i]=0\n",
        "  elif(df['Year'][i]<=2010):\n",
        "    df['Year'][i]=1\n",
        "  elif(df['Year'][i]<=2015):\n",
        "    df['Year'][i]=2\n",
        "  else:\n",
        "    df['Year'][i]=3"
      ],
      "metadata": {
        "colab": {
          "base_uri": "https://localhost:8080/"
        },
        "id": "7HABrV2mjPmw",
        "outputId": "8d743cc4-56b7-4597-a633-7f36cbe1d511"
      },
      "execution_count": 309,
      "outputs": [
        {
          "output_type": "stream",
          "name": "stderr",
          "text": [
            "/usr/local/lib/python3.7/dist-packages/ipykernel_launcher.py:9: SettingWithCopyWarning: \n",
            "A value is trying to be set on a copy of a slice from a DataFrame\n",
            "\n",
            "See the caveats in the documentation: https://pandas.pydata.org/pandas-docs/stable/user_guide/indexing.html#returning-a-view-versus-a-copy\n",
            "  if __name__ == '__main__':\n",
            "/usr/local/lib/python3.7/dist-packages/ipykernel_launcher.py:7: SettingWithCopyWarning: \n",
            "A value is trying to be set on a copy of a slice from a DataFrame\n",
            "\n",
            "See the caveats in the documentation: https://pandas.pydata.org/pandas-docs/stable/user_guide/indexing.html#returning-a-view-versus-a-copy\n",
            "  import sys\n",
            "/usr/local/lib/python3.7/dist-packages/ipykernel_launcher.py:5: SettingWithCopyWarning: \n",
            "A value is trying to be set on a copy of a slice from a DataFrame\n",
            "\n",
            "See the caveats in the documentation: https://pandas.pydata.org/pandas-docs/stable/user_guide/indexing.html#returning-a-view-versus-a-copy\n",
            "  \"\"\"\n",
            "/usr/local/lib/python3.7/dist-packages/ipykernel_launcher.py:3: SettingWithCopyWarning: \n",
            "A value is trying to be set on a copy of a slice from a DataFrame\n",
            "\n",
            "See the caveats in the documentation: https://pandas.pydata.org/pandas-docs/stable/user_guide/indexing.html#returning-a-view-versus-a-copy\n",
            "  This is separate from the ipykernel package so we can avoid doing imports until\n"
          ]
        }
      ]
    },
    {
      "cell_type": "code",
      "source": [
        "for i in range(1061):\n",
        "  if(df['Owner'][i]=='1st owner'):\n",
        "    df['Owner'][i]=0\n",
        "  elif(df['Owner'][i]=='2nd owner'):\n",
        "    df['Owner'][i]=1\n",
        "  else:\n",
        "    df['Owner'][i]=2"
      ],
      "metadata": {
        "colab": {
          "base_uri": "https://localhost:8080/"
        },
        "id": "bpk3aMUGkxGC",
        "outputId": "b65da1b2-5f3b-49c0-d9bb-2b3453620d6e"
      },
      "execution_count": 310,
      "outputs": [
        {
          "output_type": "stream",
          "name": "stderr",
          "text": [
            "/usr/local/lib/python3.7/dist-packages/ipykernel_launcher.py:3: SettingWithCopyWarning: \n",
            "A value is trying to be set on a copy of a slice from a DataFrame\n",
            "\n",
            "See the caveats in the documentation: https://pandas.pydata.org/pandas-docs/stable/user_guide/indexing.html#returning-a-view-versus-a-copy\n",
            "  This is separate from the ipykernel package so we can avoid doing imports until\n",
            "/usr/local/lib/python3.7/dist-packages/ipykernel_launcher.py:5: SettingWithCopyWarning: \n",
            "A value is trying to be set on a copy of a slice from a DataFrame\n",
            "\n",
            "See the caveats in the documentation: https://pandas.pydata.org/pandas-docs/stable/user_guide/indexing.html#returning-a-view-versus-a-copy\n",
            "  \"\"\"\n",
            "/usr/local/lib/python3.7/dist-packages/ipykernel_launcher.py:7: SettingWithCopyWarning: \n",
            "A value is trying to be set on a copy of a slice from a DataFrame\n",
            "\n",
            "See the caveats in the documentation: https://pandas.pydata.org/pandas-docs/stable/user_guide/indexing.html#returning-a-view-versus-a-copy\n",
            "  import sys\n"
          ]
        }
      ]
    },
    {
      "cell_type": "code",
      "source": [
        "for i in range(1061):\n",
        "  if(df['Seller_Type'][i]=='Dealer'):\n",
        "    df['Seller_Type'][i]=0\n",
        "  else:\n",
        "    df['Seller_Type'][i]=1"
      ],
      "metadata": {
        "colab": {
          "base_uri": "https://localhost:8080/"
        },
        "id": "AuFdn2loljc4",
        "outputId": "3b1af97b-569f-450f-eb3c-9308041bcf8f"
      },
      "execution_count": 311,
      "outputs": [
        {
          "output_type": "stream",
          "name": "stderr",
          "text": [
            "/usr/local/lib/python3.7/dist-packages/ipykernel_launcher.py:5: SettingWithCopyWarning: \n",
            "A value is trying to be set on a copy of a slice from a DataFrame\n",
            "\n",
            "See the caveats in the documentation: https://pandas.pydata.org/pandas-docs/stable/user_guide/indexing.html#returning-a-view-versus-a-copy\n",
            "  \"\"\"\n",
            "/usr/local/lib/python3.7/dist-packages/ipykernel_launcher.py:3: SettingWithCopyWarning: \n",
            "A value is trying to be set on a copy of a slice from a DataFrame\n",
            "\n",
            "See the caveats in the documentation: https://pandas.pydata.org/pandas-docs/stable/user_guide/indexing.html#returning-a-view-versus-a-copy\n",
            "  This is separate from the ipykernel package so we can avoid doing imports until\n"
          ]
        }
      ]
    },
    {
      "cell_type": "code",
      "source": [
        "\n",
        "df['Model'].value_counts()"
      ],
      "metadata": {
        "colab": {
          "base_uri": "https://localhost:8080/"
        },
        "id": "7__yH0J-l8Es",
        "outputId": "6b51b4ab-2851-4993-9605-b887bc7e3703"
      },
      "execution_count": 312,
      "outputs": [
        {
          "output_type": "execute_result",
          "data": {
            "text/plain": [
              "Bajaj Pulsar 150             41\n",
              "Royal Enfield Classic 350    27\n",
              "Honda Activa [2000-2015]     23\n",
              "Honda CB Hornet 160R         22\n",
              "Bajaj Pulsar 180             20\n",
              "                             ..\n",
              "Suzuki Gixxer SF Fi           1\n",
              "Bajaj Pulsar  NS 200          1\n",
              "Hero Xpulse 200T              1\n",
              "Yamaha Fazer                  1\n",
              "TVS Max DLX                   1\n",
              "Name: Model, Length: 279, dtype: int64"
            ]
          },
          "metadata": {},
          "execution_count": 312
        }
      ]
    },
    {
      "cell_type": "code",
      "source": [
        "\n",
        "df['Brand'].value_counts()"
      ],
      "metadata": {
        "colab": {
          "base_uri": "https://localhost:8080/"
        },
        "id": "jSno7VhdmFkU",
        "outputId": "fee3d62c-ab7a-4856-c75b-a972459be675"
      },
      "execution_count": 313,
      "outputs": [
        {
          "output_type": "execute_result",
          "data": {
            "text/plain": [
              "Bajaj       260\n",
              "Hero        232\n",
              "Honda       204\n",
              "Royal       109\n",
              "Yamaha      102\n",
              "TVS          69\n",
              "Suzuki       30\n",
              "KTM          24\n",
              "Mahindra      6\n",
              "Vespa         4\n",
              "Kawasaki      4\n",
              "Activa        3\n",
              "UM            3\n",
              "Jawa          3\n",
              "Harley        2\n",
              "Aprilia       2\n",
              "Yo            1\n",
              "Benelli       1\n",
              "Hyosung       1\n",
              "BMW           1\n",
              "Name: Brand, dtype: int64"
            ]
          },
          "metadata": {},
          "execution_count": 313
        }
      ]
    },
    {
      "cell_type": "code",
      "source": [
        "X= df.drop(['Brand','Model','Ex_Showroom_Price'],axis=1)"
      ],
      "metadata": {
        "id": "fD_h9KNOmZfh"
      },
      "execution_count": 314,
      "outputs": []
    },
    {
      "cell_type": "code",
      "source": [
        "X"
      ],
      "metadata": {
        "colab": {
          "base_uri": "https://localhost:8080/",
          "height": 423
        },
        "id": "M0mOOfPn-ZuJ",
        "outputId": "cda86976-1ff9-4c77-f9c1-f3ba225505ad"
      },
      "execution_count": 315,
      "outputs": [
        {
          "output_type": "execute_result",
          "data": {
            "text/plain": [
              "      Selling_Price  Year Seller_Type Owner  KM_Driven\n",
              "0             30000     3           1     0       8000\n",
              "1             18000     3           1     0      35000\n",
              "2             20000     2           1     0      10000\n",
              "3             25000     1           1     0      43000\n",
              "4             24999     2           1     1      35000\n",
              "...             ...   ...         ...   ...        ...\n",
              "1056          90000     2           1     0      40000\n",
              "1057          20000     1           1     0      17000\n",
              "1058          60000     2           1     0      16000\n",
              "1059          40000     1           1     0      50000\n",
              "1060          35000     2           1     0      60000\n",
              "\n",
              "[1061 rows x 5 columns]"
            ],
            "text/html": [
              "\n",
              "  <div id=\"df-26aa0025-ff56-40d6-98bf-56bb8bab2fd5\">\n",
              "    <div class=\"colab-df-container\">\n",
              "      <div>\n",
              "<style scoped>\n",
              "    .dataframe tbody tr th:only-of-type {\n",
              "        vertical-align: middle;\n",
              "    }\n",
              "\n",
              "    .dataframe tbody tr th {\n",
              "        vertical-align: top;\n",
              "    }\n",
              "\n",
              "    .dataframe thead th {\n",
              "        text-align: right;\n",
              "    }\n",
              "</style>\n",
              "<table border=\"1\" class=\"dataframe\">\n",
              "  <thead>\n",
              "    <tr style=\"text-align: right;\">\n",
              "      <th></th>\n",
              "      <th>Selling_Price</th>\n",
              "      <th>Year</th>\n",
              "      <th>Seller_Type</th>\n",
              "      <th>Owner</th>\n",
              "      <th>KM_Driven</th>\n",
              "    </tr>\n",
              "  </thead>\n",
              "  <tbody>\n",
              "    <tr>\n",
              "      <th>0</th>\n",
              "      <td>30000</td>\n",
              "      <td>3</td>\n",
              "      <td>1</td>\n",
              "      <td>0</td>\n",
              "      <td>8000</td>\n",
              "    </tr>\n",
              "    <tr>\n",
              "      <th>1</th>\n",
              "      <td>18000</td>\n",
              "      <td>3</td>\n",
              "      <td>1</td>\n",
              "      <td>0</td>\n",
              "      <td>35000</td>\n",
              "    </tr>\n",
              "    <tr>\n",
              "      <th>2</th>\n",
              "      <td>20000</td>\n",
              "      <td>2</td>\n",
              "      <td>1</td>\n",
              "      <td>0</td>\n",
              "      <td>10000</td>\n",
              "    </tr>\n",
              "    <tr>\n",
              "      <th>3</th>\n",
              "      <td>25000</td>\n",
              "      <td>1</td>\n",
              "      <td>1</td>\n",
              "      <td>0</td>\n",
              "      <td>43000</td>\n",
              "    </tr>\n",
              "    <tr>\n",
              "      <th>4</th>\n",
              "      <td>24999</td>\n",
              "      <td>2</td>\n",
              "      <td>1</td>\n",
              "      <td>1</td>\n",
              "      <td>35000</td>\n",
              "    </tr>\n",
              "    <tr>\n",
              "      <th>...</th>\n",
              "      <td>...</td>\n",
              "      <td>...</td>\n",
              "      <td>...</td>\n",
              "      <td>...</td>\n",
              "      <td>...</td>\n",
              "    </tr>\n",
              "    <tr>\n",
              "      <th>1056</th>\n",
              "      <td>90000</td>\n",
              "      <td>2</td>\n",
              "      <td>1</td>\n",
              "      <td>0</td>\n",
              "      <td>40000</td>\n",
              "    </tr>\n",
              "    <tr>\n",
              "      <th>1057</th>\n",
              "      <td>20000</td>\n",
              "      <td>1</td>\n",
              "      <td>1</td>\n",
              "      <td>0</td>\n",
              "      <td>17000</td>\n",
              "    </tr>\n",
              "    <tr>\n",
              "      <th>1058</th>\n",
              "      <td>60000</td>\n",
              "      <td>2</td>\n",
              "      <td>1</td>\n",
              "      <td>0</td>\n",
              "      <td>16000</td>\n",
              "    </tr>\n",
              "    <tr>\n",
              "      <th>1059</th>\n",
              "      <td>40000</td>\n",
              "      <td>1</td>\n",
              "      <td>1</td>\n",
              "      <td>0</td>\n",
              "      <td>50000</td>\n",
              "    </tr>\n",
              "    <tr>\n",
              "      <th>1060</th>\n",
              "      <td>35000</td>\n",
              "      <td>2</td>\n",
              "      <td>1</td>\n",
              "      <td>0</td>\n",
              "      <td>60000</td>\n",
              "    </tr>\n",
              "  </tbody>\n",
              "</table>\n",
              "<p>1061 rows × 5 columns</p>\n",
              "</div>\n",
              "      <button class=\"colab-df-convert\" onclick=\"convertToInteractive('df-26aa0025-ff56-40d6-98bf-56bb8bab2fd5')\"\n",
              "              title=\"Convert this dataframe to an interactive table.\"\n",
              "              style=\"display:none;\">\n",
              "        \n",
              "  <svg xmlns=\"http://www.w3.org/2000/svg\" height=\"24px\"viewBox=\"0 0 24 24\"\n",
              "       width=\"24px\">\n",
              "    <path d=\"M0 0h24v24H0V0z\" fill=\"none\"/>\n",
              "    <path d=\"M18.56 5.44l.94 2.06.94-2.06 2.06-.94-2.06-.94-.94-2.06-.94 2.06-2.06.94zm-11 1L8.5 8.5l.94-2.06 2.06-.94-2.06-.94L8.5 2.5l-.94 2.06-2.06.94zm10 10l.94 2.06.94-2.06 2.06-.94-2.06-.94-.94-2.06-.94 2.06-2.06.94z\"/><path d=\"M17.41 7.96l-1.37-1.37c-.4-.4-.92-.59-1.43-.59-.52 0-1.04.2-1.43.59L10.3 9.45l-7.72 7.72c-.78.78-.78 2.05 0 2.83L4 21.41c.39.39.9.59 1.41.59.51 0 1.02-.2 1.41-.59l7.78-7.78 2.81-2.81c.8-.78.8-2.07 0-2.86zM5.41 20L4 18.59l7.72-7.72 1.47 1.35L5.41 20z\"/>\n",
              "  </svg>\n",
              "      </button>\n",
              "      \n",
              "  <style>\n",
              "    .colab-df-container {\n",
              "      display:flex;\n",
              "      flex-wrap:wrap;\n",
              "      gap: 12px;\n",
              "    }\n",
              "\n",
              "    .colab-df-convert {\n",
              "      background-color: #E8F0FE;\n",
              "      border: none;\n",
              "      border-radius: 50%;\n",
              "      cursor: pointer;\n",
              "      display: none;\n",
              "      fill: #1967D2;\n",
              "      height: 32px;\n",
              "      padding: 0 0 0 0;\n",
              "      width: 32px;\n",
              "    }\n",
              "\n",
              "    .colab-df-convert:hover {\n",
              "      background-color: #E2EBFA;\n",
              "      box-shadow: 0px 1px 2px rgba(60, 64, 67, 0.3), 0px 1px 3px 1px rgba(60, 64, 67, 0.15);\n",
              "      fill: #174EA6;\n",
              "    }\n",
              "\n",
              "    [theme=dark] .colab-df-convert {\n",
              "      background-color: #3B4455;\n",
              "      fill: #D2E3FC;\n",
              "    }\n",
              "\n",
              "    [theme=dark] .colab-df-convert:hover {\n",
              "      background-color: #434B5C;\n",
              "      box-shadow: 0px 1px 3px 1px rgba(0, 0, 0, 0.15);\n",
              "      filter: drop-shadow(0px 1px 2px rgba(0, 0, 0, 0.3));\n",
              "      fill: #FFFFFF;\n",
              "    }\n",
              "  </style>\n",
              "\n",
              "      <script>\n",
              "        const buttonEl =\n",
              "          document.querySelector('#df-26aa0025-ff56-40d6-98bf-56bb8bab2fd5 button.colab-df-convert');\n",
              "        buttonEl.style.display =\n",
              "          google.colab.kernel.accessAllowed ? 'block' : 'none';\n",
              "\n",
              "        async function convertToInteractive(key) {\n",
              "          const element = document.querySelector('#df-26aa0025-ff56-40d6-98bf-56bb8bab2fd5');\n",
              "          const dataTable =\n",
              "            await google.colab.kernel.invokeFunction('convertToInteractive',\n",
              "                                                     [key], {});\n",
              "          if (!dataTable) return;\n",
              "\n",
              "          const docLinkHtml = 'Like what you see? Visit the ' +\n",
              "            '<a target=\"_blank\" href=https://colab.research.google.com/notebooks/data_table.ipynb>data table notebook</a>'\n",
              "            + ' to learn more about interactive tables.';\n",
              "          element.innerHTML = '';\n",
              "          dataTable['output_type'] = 'display_data';\n",
              "          await google.colab.output.renderOutput(dataTable, element);\n",
              "          const docLink = document.createElement('div');\n",
              "          docLink.innerHTML = docLinkHtml;\n",
              "          element.appendChild(docLink);\n",
              "        }\n",
              "      </script>\n",
              "    </div>\n",
              "  </div>\n",
              "  "
            ]
          },
          "metadata": {},
          "execution_count": 315
        }
      ]
    },
    {
      "cell_type": "code",
      "source": [
        "# from sklearn.preprocessing import StandardScaler\n",
        "# ss= StandardScaler()\n",
        "# X=ss.fit_transform(X)"
      ],
      "metadata": {
        "id": "TFP0JZTBmyNT"
      },
      "execution_count": 316,
      "outputs": []
    },
    {
      "cell_type": "code",
      "source": [
        "X.shape"
      ],
      "metadata": {
        "colab": {
          "base_uri": "https://localhost:8080/"
        },
        "id": "CVDMpluW-65n",
        "outputId": "ba54e2e4-d55b-4c7c-f902-580bf57fa5ef"
      },
      "execution_count": 317,
      "outputs": [
        {
          "output_type": "execute_result",
          "data": {
            "text/plain": [
              "(1061, 5)"
            ]
          },
          "metadata": {},
          "execution_count": 317
        }
      ]
    },
    {
      "cell_type": "code",
      "source": [
        "X.iloc[1060][4]"
      ],
      "metadata": {
        "colab": {
          "base_uri": "https://localhost:8080/"
        },
        "id": "MRLLNtsa_WpU",
        "outputId": "d8995ff7-a815-4f55-9595-0407ec381af2"
      },
      "execution_count": 318,
      "outputs": [
        {
          "output_type": "execute_result",
          "data": {
            "text/plain": [
              "60000"
            ]
          },
          "metadata": {},
          "execution_count": 318
        }
      ]
    },
    {
      "cell_type": "code",
      "source": [
        "y=df['Ex_Showroom_Price']"
      ],
      "metadata": {
        "id": "y5Llvko1nqjQ"
      },
      "execution_count": 319,
      "outputs": []
    },
    {
      "cell_type": "code",
      "source": [
        "from sklearn.model_selection import train_test_split\n",
        "X_train,X_test,y_train,y_test = train_test_split(X,y,test_size=0.1,random_state=123)\n"
      ],
      "metadata": {
        "id": "Lgg6WNuonUgH"
      },
      "execution_count": 320,
      "outputs": []
    },
    {
      "cell_type": "code",
      "source": [
        "X_train"
      ],
      "metadata": {
        "colab": {
          "base_uri": "https://localhost:8080/",
          "height": 423
        },
        "id": "0ArxN3oFAwO7",
        "outputId": "5c3a8fa1-f70e-48ac-aa53-85fa5a8a0015"
      },
      "execution_count": 321,
      "outputs": [
        {
          "output_type": "execute_result",
          "data": {
            "text/plain": [
              "      Selling_Price  Year Seller_Type Owner  KM_Driven\n",
              "103           45000     3           1     0      25000\n",
              "866            5000     0           1     0      60000\n",
              "209           35000     2           1     0      15888\n",
              "184           25000     2           1     0      35000\n",
              "291           50000     3           1     0      46000\n",
              "...             ...   ...         ...   ...        ...\n",
              "638           65000     3           1     0      27000\n",
              "113           32000     2           1     1      20696\n",
              "96            40000     2           1     0      10000\n",
              "106           35000     3           1     0      29000\n",
              "1041          45000     2           1     0      40000\n",
              "\n",
              "[954 rows x 5 columns]"
            ],
            "text/html": [
              "\n",
              "  <div id=\"df-cfe137f8-592a-4bc5-a96b-c521ce16043c\">\n",
              "    <div class=\"colab-df-container\">\n",
              "      <div>\n",
              "<style scoped>\n",
              "    .dataframe tbody tr th:only-of-type {\n",
              "        vertical-align: middle;\n",
              "    }\n",
              "\n",
              "    .dataframe tbody tr th {\n",
              "        vertical-align: top;\n",
              "    }\n",
              "\n",
              "    .dataframe thead th {\n",
              "        text-align: right;\n",
              "    }\n",
              "</style>\n",
              "<table border=\"1\" class=\"dataframe\">\n",
              "  <thead>\n",
              "    <tr style=\"text-align: right;\">\n",
              "      <th></th>\n",
              "      <th>Selling_Price</th>\n",
              "      <th>Year</th>\n",
              "      <th>Seller_Type</th>\n",
              "      <th>Owner</th>\n",
              "      <th>KM_Driven</th>\n",
              "    </tr>\n",
              "  </thead>\n",
              "  <tbody>\n",
              "    <tr>\n",
              "      <th>103</th>\n",
              "      <td>45000</td>\n",
              "      <td>3</td>\n",
              "      <td>1</td>\n",
              "      <td>0</td>\n",
              "      <td>25000</td>\n",
              "    </tr>\n",
              "    <tr>\n",
              "      <th>866</th>\n",
              "      <td>5000</td>\n",
              "      <td>0</td>\n",
              "      <td>1</td>\n",
              "      <td>0</td>\n",
              "      <td>60000</td>\n",
              "    </tr>\n",
              "    <tr>\n",
              "      <th>209</th>\n",
              "      <td>35000</td>\n",
              "      <td>2</td>\n",
              "      <td>1</td>\n",
              "      <td>0</td>\n",
              "      <td>15888</td>\n",
              "    </tr>\n",
              "    <tr>\n",
              "      <th>184</th>\n",
              "      <td>25000</td>\n",
              "      <td>2</td>\n",
              "      <td>1</td>\n",
              "      <td>0</td>\n",
              "      <td>35000</td>\n",
              "    </tr>\n",
              "    <tr>\n",
              "      <th>291</th>\n",
              "      <td>50000</td>\n",
              "      <td>3</td>\n",
              "      <td>1</td>\n",
              "      <td>0</td>\n",
              "      <td>46000</td>\n",
              "    </tr>\n",
              "    <tr>\n",
              "      <th>...</th>\n",
              "      <td>...</td>\n",
              "      <td>...</td>\n",
              "      <td>...</td>\n",
              "      <td>...</td>\n",
              "      <td>...</td>\n",
              "    </tr>\n",
              "    <tr>\n",
              "      <th>638</th>\n",
              "      <td>65000</td>\n",
              "      <td>3</td>\n",
              "      <td>1</td>\n",
              "      <td>0</td>\n",
              "      <td>27000</td>\n",
              "    </tr>\n",
              "    <tr>\n",
              "      <th>113</th>\n",
              "      <td>32000</td>\n",
              "      <td>2</td>\n",
              "      <td>1</td>\n",
              "      <td>1</td>\n",
              "      <td>20696</td>\n",
              "    </tr>\n",
              "    <tr>\n",
              "      <th>96</th>\n",
              "      <td>40000</td>\n",
              "      <td>2</td>\n",
              "      <td>1</td>\n",
              "      <td>0</td>\n",
              "      <td>10000</td>\n",
              "    </tr>\n",
              "    <tr>\n",
              "      <th>106</th>\n",
              "      <td>35000</td>\n",
              "      <td>3</td>\n",
              "      <td>1</td>\n",
              "      <td>0</td>\n",
              "      <td>29000</td>\n",
              "    </tr>\n",
              "    <tr>\n",
              "      <th>1041</th>\n",
              "      <td>45000</td>\n",
              "      <td>2</td>\n",
              "      <td>1</td>\n",
              "      <td>0</td>\n",
              "      <td>40000</td>\n",
              "    </tr>\n",
              "  </tbody>\n",
              "</table>\n",
              "<p>954 rows × 5 columns</p>\n",
              "</div>\n",
              "      <button class=\"colab-df-convert\" onclick=\"convertToInteractive('df-cfe137f8-592a-4bc5-a96b-c521ce16043c')\"\n",
              "              title=\"Convert this dataframe to an interactive table.\"\n",
              "              style=\"display:none;\">\n",
              "        \n",
              "  <svg xmlns=\"http://www.w3.org/2000/svg\" height=\"24px\"viewBox=\"0 0 24 24\"\n",
              "       width=\"24px\">\n",
              "    <path d=\"M0 0h24v24H0V0z\" fill=\"none\"/>\n",
              "    <path d=\"M18.56 5.44l.94 2.06.94-2.06 2.06-.94-2.06-.94-.94-2.06-.94 2.06-2.06.94zm-11 1L8.5 8.5l.94-2.06 2.06-.94-2.06-.94L8.5 2.5l-.94 2.06-2.06.94zm10 10l.94 2.06.94-2.06 2.06-.94-2.06-.94-.94-2.06-.94 2.06-2.06.94z\"/><path d=\"M17.41 7.96l-1.37-1.37c-.4-.4-.92-.59-1.43-.59-.52 0-1.04.2-1.43.59L10.3 9.45l-7.72 7.72c-.78.78-.78 2.05 0 2.83L4 21.41c.39.39.9.59 1.41.59.51 0 1.02-.2 1.41-.59l7.78-7.78 2.81-2.81c.8-.78.8-2.07 0-2.86zM5.41 20L4 18.59l7.72-7.72 1.47 1.35L5.41 20z\"/>\n",
              "  </svg>\n",
              "      </button>\n",
              "      \n",
              "  <style>\n",
              "    .colab-df-container {\n",
              "      display:flex;\n",
              "      flex-wrap:wrap;\n",
              "      gap: 12px;\n",
              "    }\n",
              "\n",
              "    .colab-df-convert {\n",
              "      background-color: #E8F0FE;\n",
              "      border: none;\n",
              "      border-radius: 50%;\n",
              "      cursor: pointer;\n",
              "      display: none;\n",
              "      fill: #1967D2;\n",
              "      height: 32px;\n",
              "      padding: 0 0 0 0;\n",
              "      width: 32px;\n",
              "    }\n",
              "\n",
              "    .colab-df-convert:hover {\n",
              "      background-color: #E2EBFA;\n",
              "      box-shadow: 0px 1px 2px rgba(60, 64, 67, 0.3), 0px 1px 3px 1px rgba(60, 64, 67, 0.15);\n",
              "      fill: #174EA6;\n",
              "    }\n",
              "\n",
              "    [theme=dark] .colab-df-convert {\n",
              "      background-color: #3B4455;\n",
              "      fill: #D2E3FC;\n",
              "    }\n",
              "\n",
              "    [theme=dark] .colab-df-convert:hover {\n",
              "      background-color: #434B5C;\n",
              "      box-shadow: 0px 1px 3px 1px rgba(0, 0, 0, 0.15);\n",
              "      filter: drop-shadow(0px 1px 2px rgba(0, 0, 0, 0.3));\n",
              "      fill: #FFFFFF;\n",
              "    }\n",
              "  </style>\n",
              "\n",
              "      <script>\n",
              "        const buttonEl =\n",
              "          document.querySelector('#df-cfe137f8-592a-4bc5-a96b-c521ce16043c button.colab-df-convert');\n",
              "        buttonEl.style.display =\n",
              "          google.colab.kernel.accessAllowed ? 'block' : 'none';\n",
              "\n",
              "        async function convertToInteractive(key) {\n",
              "          const element = document.querySelector('#df-cfe137f8-592a-4bc5-a96b-c521ce16043c');\n",
              "          const dataTable =\n",
              "            await google.colab.kernel.invokeFunction('convertToInteractive',\n",
              "                                                     [key], {});\n",
              "          if (!dataTable) return;\n",
              "\n",
              "          const docLinkHtml = 'Like what you see? Visit the ' +\n",
              "            '<a target=\"_blank\" href=https://colab.research.google.com/notebooks/data_table.ipynb>data table notebook</a>'\n",
              "            + ' to learn more about interactive tables.';\n",
              "          element.innerHTML = '';\n",
              "          dataTable['output_type'] = 'display_data';\n",
              "          await google.colab.output.renderOutput(dataTable, element);\n",
              "          const docLink = document.createElement('div');\n",
              "          docLink.innerHTML = docLinkHtml;\n",
              "          element.appendChild(docLink);\n",
              "        }\n",
              "      </script>\n",
              "    </div>\n",
              "  </div>\n",
              "  "
            ]
          },
          "metadata": {},
          "execution_count": 321
        }
      ]
    },
    {
      "cell_type": "code",
      "source": [
        "X_train.shape"
      ],
      "metadata": {
        "colab": {
          "base_uri": "https://localhost:8080/"
        },
        "id": "eGZSGrLHCqyt",
        "outputId": "b66901e8-16a2-4f2c-a9f0-ee5f8a522a3f"
      },
      "execution_count": 322,
      "outputs": [
        {
          "output_type": "execute_result",
          "data": {
            "text/plain": [
              "(954, 5)"
            ]
          },
          "metadata": {},
          "execution_count": 322
        }
      ]
    },
    {
      "cell_type": "code",
      "source": [
        "y_train[953]"
      ],
      "metadata": {
        "colab": {
          "base_uri": "https://localhost:8080/"
        },
        "id": "sKZMqKyGC9j4",
        "outputId": "b3002d34-f3e9-4663-aa47-885fcc524d96"
      },
      "execution_count": 323,
      "outputs": [
        {
          "output_type": "execute_result",
          "data": {
            "text/plain": [
              "87958.71405750798"
            ]
          },
          "metadata": {},
          "execution_count": 323
        }
      ]
    },
    {
      "cell_type": "code",
      "source": [
        "y_train.shape"
      ],
      "metadata": {
        "colab": {
          "base_uri": "https://localhost:8080/"
        },
        "id": "PNZvP6GLAzoj",
        "outputId": "6aa0214f-4551-4336-dd2f-9770649e6760"
      },
      "execution_count": 324,
      "outputs": [
        {
          "output_type": "execute_result",
          "data": {
            "text/plain": [
              "(954,)"
            ]
          },
          "metadata": {},
          "execution_count": 324
        }
      ]
    },
    {
      "cell_type": "code",
      "source": [
        "y_train.iloc[0]"
      ],
      "metadata": {
        "colab": {
          "base_uri": "https://localhost:8080/"
        },
        "id": "qCyDpZuuNaM8",
        "outputId": "210f5280-65a2-4cf0-ffc1-1e2caf0efc25"
      },
      "execution_count": 325,
      "outputs": [
        {
          "output_type": "execute_result",
          "data": {
            "text/plain": [
              "53079.0"
            ]
          },
          "metadata": {},
          "execution_count": 325
        }
      ]
    },
    {
      "cell_type": "code",
      "source": [
        "def cost_function (X_train,y_train,m1,m2,m3,m4,m5,c):\n",
        "  error = 0.0\n",
        "  for i in range(954):\n",
        "    error = error + (m1*X_train.iloc[i][0]+m2*X_train.iloc[i][1]+m3*X_train.iloc[i][2]+m4*X_train.iloc[i][3]+m5*X_train.iloc[i][4]+c-y_train.iloc[i]) ** 2\n",
        "  return error/954.0"
      ],
      "metadata": {
        "id": "p8C0pWAb9nzk"
      },
      "execution_count": 326,
      "outputs": []
    },
    {
      "cell_type": "code",
      "source": [
        "def dm(X_train,y_train,m1,m2,m3,m4,m5,c,n):\n",
        "  gradient = 0.0\n",
        "  for i in range(954):\n",
        "    gradient += X_train.iloc[i][n]*(m1*X_train.iloc[i][0]+m2*X_train.iloc[i][1]+m3*X_train.iloc[i][2]+m4*X_train.iloc[i][3]+m5*X_train.iloc[i][4]+c-y_train.iloc[i])\n",
        "  return 2.0*gradient/954.0\n"
      ],
      "metadata": {
        "id": "xTI8cOIcD4cL"
      },
      "execution_count": 327,
      "outputs": []
    },
    {
      "cell_type": "code",
      "source": [
        "def dm_c (X_train,y_train,m1,m2,m3,m4,m5,c):\n",
        "  gradient = 0.0\n",
        "  for i in range(954):\n",
        "    gradient += (m1*X_train.iloc[i][0]+m2*X_train.iloc[i][1]+m3*X_train.iloc[i][2]+m4*X_train.iloc[i][3]+m5*X_train.iloc[i][4]+c-y_train.iloc[i])\n",
        "  return 2.0*gradient/954.0"
      ],
      "metadata": {
        "id": "Sgu5FdddHIdn"
      },
      "execution_count": 328,
      "outputs": []
    },
    {
      "cell_type": "code",
      "source": [
        "#learning_rate = 0.0000001\n",
        "r=0.0000000001\n",
        "m1=1\n",
        "m2=1\n",
        "m3=1\n",
        "m4=1\n",
        "m5=1\n",
        "c= 1\n",
        "J = cost_function (X_train,y_train,m1,m2,m3,m4,m5,c)\n",
        "\n",
        "\n"
      ],
      "metadata": {
        "id": "LYPSvrTqH1WL"
      },
      "execution_count": 329,
      "outputs": []
    },
    {
      "cell_type": "code",
      "source": [
        "J"
      ],
      "metadata": {
        "colab": {
          "base_uri": "https://localhost:8080/"
        },
        "id": "6pf0dA26N7xu",
        "outputId": "a3390b2e-4276-47c2-a20b-7dd9c2c7d3db"
      },
      "execution_count": 330,
      "outputs": [
        {
          "output_type": "execute_result",
          "data": {
            "text/plain": [
              "3914719738.6854687"
            ]
          },
          "metadata": {},
          "execution_count": 330
        }
      ]
    },
    {
      "cell_type": "code",
      "source": [
        "while True:\n",
        "  m1 = m1 - r*dm(X_train,y_train,m1,m2,m3,m4,m5,c,0)\n",
        "  m2 = m2 - r*dm(X_train,y_train,m1,m2,m3,m4,m5,c,1)\n",
        "  m3= m3 - r*dm(X_train,y_train,m1,m2,m3,m4,m5,c,2)\n",
        "  m4 = m4 - r*dm(X_train,y_train,m1,m2,m3,m4,m5,c,3)\n",
        "  m5 = m5 - r*dm(X_train,y_train,m1,m2,m3,m4,m5,c,4)\n",
        "  c = c - r*dm_c (X_train,y_train,m1,m2,m3,m4,m5,c)\n",
        "  J1 = cost_function (X_train,y_train,m1,m2,m3,m4,m5,c)\n",
        "  print(J1)\n",
        "  if(J1>J):\n",
        "    break\n",
        "  elif((J-J1)< 0.23):\n",
        "    break\n",
        "  J=J1"
      ],
      "metadata": {
        "colab": {
          "base_uri": "https://localhost:8080/"
        },
        "id": "2PI5z-iLMP1S",
        "outputId": "692ff491-193d-4f3e-b681-eadd9469646f"
      },
      "execution_count": 331,
      "outputs": [
        {
          "output_type": "stream",
          "name": "stdout",
          "text": [
            "2273786015.984077\n",
            "2034266599.7710242\n",
            "2029610028.2551117\n",
            "2029073925.6742184\n",
            "2029060352.4257994\n",
            "2029059091.0594378\n",
            "2029059051.6803508\n",
            "2029059048.3891883\n",
            "2029059048.0655398\n",
            "2029059047.8452036\n"
          ]
        }
      ]
    },
    {
      "cell_type": "code",
      "source": [
        "y_test.shape"
      ],
      "metadata": {
        "colab": {
          "base_uri": "https://localhost:8080/"
        },
        "id": "eAchGzI2HmA0",
        "outputId": "5563a617-bb16-4e02-9fcc-92754f5bcaa2"
      },
      "execution_count": 332,
      "outputs": [
        {
          "output_type": "execute_result",
          "data": {
            "text/plain": [
              "(107,)"
            ]
          },
          "metadata": {},
          "execution_count": 332
        }
      ]
    },
    {
      "cell_type": "code",
      "source": [
        "y_test"
      ],
      "metadata": {
        "colab": {
          "base_uri": "https://localhost:8080/"
        },
        "id": "IDeHYdW7Mqq7",
        "outputId": "0ce37895-c865-4974-8222-6f27ad15f498"
      },
      "execution_count": 333,
      "outputs": [
        {
          "output_type": "execute_result",
          "data": {
            "text/plain": [
              "1058     87958.714058\n",
              "521     105000.000000\n",
              "196      57557.000000\n",
              "687      87958.714058\n",
              "678      87958.714058\n",
              "            ...      \n",
              "154      54760.000000\n",
              "328      74295.000000\n",
              "598     182000.000000\n",
              "952      87958.714058\n",
              "847      87958.714058\n",
              "Name: Ex_Showroom_Price, Length: 107, dtype: float64"
            ]
          },
          "metadata": {},
          "execution_count": 333
        }
      ]
    },
    {
      "cell_type": "code",
      "source": [
        "print(m1)\n",
        "print(m2)\n",
        "print(m3)\n",
        "print(m4)\n",
        "print(m5)\n",
        "print(c)"
      ],
      "metadata": {
        "colab": {
          "base_uri": "https://localhost:8080/"
        },
        "id": "38dLATP2IyRs",
        "outputId": "0a00c2c0-eea0-4248-e839-f7f75ec970bc"
      },
      "execution_count": 334,
      "outputs": [
        {
          "output_type": "stream",
          "name": "stdout",
          "text": [
            "1.0938595878058304\n",
            "1.0000231392028776\n",
            "1.0000203699470385\n",
            "1.0000060307898713\n",
            "0.29509680257303106\n",
            "1.0000255635970394\n"
          ]
        }
      ]
    },
    {
      "cell_type": "code",
      "source": [
        "import numpy as np\n",
        "a = [0.0]*107\n",
        "for i in range(107):\n",
        "  a[i] = m1*X_test.iloc[i][0]+m2*X_test.iloc[i][1]+m3*X_test.iloc[i][2]+m4*X_test.iloc[i][3]+m5*X_test.iloc[i][4]+c\n",
        "\n",
        "y_pred = pd.DataFrame(a)"
      ],
      "metadata": {
        "id": "BWt2BHerL4Pj"
      },
      "execution_count": 335,
      "outputs": []
    },
    {
      "cell_type": "code",
      "source": [
        "# from sklearn.linear_model import LinearRegression\n",
        "# lr = LinearRegression()\n",
        "# lr.fit(X_train,y_train)"
      ],
      "metadata": {
        "id": "YLMZXE7GoHeC"
      },
      "execution_count": 336,
      "outputs": []
    },
    {
      "cell_type": "code",
      "source": [
        "# y_pred=lr.predict(X_test)"
      ],
      "metadata": {
        "id": "gFCGcSbJodBu"
      },
      "execution_count": 337,
      "outputs": []
    },
    {
      "cell_type": "code",
      "source": [
        "from sklearn.metrics import mean_squared_error,r2_score\n",
        "print(mean_squared_error(y_test,y_pred))\n",
        "print(r2_score(y_test,y_pred))"
      ],
      "metadata": {
        "id": "DGjaddyYq5D1",
        "colab": {
          "base_uri": "https://localhost:8080/"
        },
        "outputId": "4a3578b8-b62d-4ff3-c67b-b8fab5ce895a"
      },
      "execution_count": 338,
      "outputs": [
        {
          "output_type": "stream",
          "name": "stdout",
          "text": [
            "1465362326.0077138\n",
            "0.8029048938554204\n"
          ]
        }
      ]
    },
    {
      "cell_type": "code",
      "source": [
        ""
      ],
      "metadata": {
        "id": "wd79GXL7rXew"
      },
      "execution_count": 338,
      "outputs": []
    }
  ]
}